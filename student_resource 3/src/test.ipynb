{
 "cells": [
  {
   "cell_type": "markdown",
   "id": "1b70b34e",
   "metadata": {},
   "source": [
    "### Basic library imports"
   ]
  },
  {
   "cell_type": "code",
   "execution_count": 31,
   "id": "719d15af",
   "metadata": {},
   "outputs": [],
   "source": [
    "import os\n",
    "import pandas as pd"
   ]
  },
  {
   "cell_type": "markdown",
   "id": "b8911e33",
   "metadata": {},
   "source": [
    "### Read Dataset"
   ]
  },
  {
   "cell_type": "code",
   "execution_count": 32,
   "id": "d3136aac",
   "metadata": {},
   "outputs": [],
   "source": [
    "DATASET_FOLDER = '../dataset/'\n",
    "train = pd.read_csv(os.path.join(DATASET_FOLDER, 'train.csv'))\n",
    "test = pd.read_csv(os.path.join(DATASET_FOLDER, 'test.csv'))\n",
    "sample_test = pd.read_csv(os.path.join(DATASET_FOLDER, 'sample_test.csv'))\n",
    "sample_test_out = pd.read_csv(os.path.join(DATASET_FOLDER, 'sample_test_out.csv'))"
   ]
  },
  {
   "cell_type": "markdown",
   "id": "60ebd689",
   "metadata": {},
   "source": [
    "### Run Sanity check using src/sanity.py"
   ]
  },
  {
   "cell_type": "code",
   "execution_count": 33,
   "id": "81bb3988",
   "metadata": {},
   "outputs": [
    {
     "name": "stdout",
     "output_type": "stream",
     "text": [
      "{'gallon', 'foot', 'gram', 'ton', 'centimetre', 'metre', 'microlitre', 'millimetre', 'litre', 'millilitre', 'yard', 'ounce', 'cubic foot', 'kilowatt', 'centilitre', 'cubic inch', 'volt', 'cup', 'quart', 'decilitre', 'pint', 'kilovolt', 'fluid ounce', 'microgram', 'milligram', 'imperial gallon', 'kilogram', 'inch', 'watt', 'pound', 'millivolt'}\n",
      "Parsing successfull for file: ../dataset/sample_test_out.csv\n"
     ]
    }
   ],
   "source": [
    "!python sanity.py --test_filename ../dataset/sample_test.csv --output_filename ../dataset/sample_test_out.csv"
   ]
  },
  {
   "cell_type": "code",
   "execution_count": 34,
   "id": "5aa79459",
   "metadata": {},
   "outputs": [
    {
     "name": "stdout",
     "output_type": "stream",
     "text": [
      "{'ounce', 'centimetre', 'pint', 'kilogram', 'watt', 'quart', 'fluid ounce', 'pound', 'decilitre', 'yard', 'millimetre', 'milligram', 'imperial gallon', 'millilitre', 'microgram', 'cubic inch', 'microlitre', 'kilovolt', 'volt', 'cubic foot', 'gram', 'foot', 'gallon', 'ton', 'litre', 'centilitre', 'kilowatt', 'inch', 'millivolt', 'metre', 'cup'}\n",
      "Error: Invalid unit [lbs] found in 6.75 lbs. Allowed units: {'ounce', 'centimetre', 'pint', 'kilogram', 'watt', 'quart', 'fluid ounce', 'pound', 'decilitre', 'yard', 'millimetre', 'milligram', 'imperial gallon', 'millilitre', 'microgram', 'cubic inch', 'microlitre', 'kilovolt', 'volt', 'cubic foot', 'gram', 'foot', 'gallon', 'ton', 'litre', 'centilitre', 'kilowatt', 'inch', 'millivolt', 'metre', 'cup'}\n"
     ]
    }
   ],
   "source": [
    "!python sanity.py --test_filename ../dataset/sample_test.csv --output_filename ../dataset/sample_test_out_fail.csv"
   ]
  },
  {
   "cell_type": "markdown",
   "id": "dbe930a8",
   "metadata": {},
   "source": [
    "### Download images"
   ]
  },
  {
   "cell_type": "code",
   "execution_count": 35,
   "id": "a3d1aad8",
   "metadata": {},
   "outputs": [
    {
     "name": "stdout",
     "output_type": "stream",
     "text": [
      "{'ounce', 'quart', 'foot', 'yard', 'ton', 'metre', 'gram', 'kilovolt', 'fluid ounce', 'decilitre', 'milligram', 'cubic inch', 'centilitre', 'volt', 'cup', 'cubic foot', 'pint', 'millimetre', 'litre', 'millilitre', 'imperial gallon', 'kilowatt', 'millivolt', 'watt', 'pound', 'centimetre', 'microlitre', 'microgram', 'gallon', 'inch', 'kilogram'}\n"
     ]
    },
    {
     "name": "stderr",
     "output_type": "stream",
     "text": [
      "Exception in thread Thread-166 (_handle_workers):\n",
      "Traceback (most recent call last):\n",
      "  File \"c:\\Users\\mariy\\AppData\\Local\\Programs\\Python\\Python312\\Lib\\threading.py\", line 1052, in _bootstrap_inner\n",
      "    self.run()\n",
      "  File \"C:\\Users\\mariy\\AppData\\Roaming\\Python\\Python312\\site-packages\\ipykernel\\ipkernel.py\", line 766, in run_closure\n",
      "    _threading_Thread_run(self)\n",
      "  File \"c:\\Users\\mariy\\AppData\\Local\\Programs\\Python\\Python312\\Lib\\threading.py\", line 989, in run\n",
      "    self._target(*self._args, **self._kwargs)\n",
      "  File \"c:\\Users\\mariy\\AppData\\Local\\Programs\\Python\\Python312\\Lib\\multiprocessing\\pool.py\", line 522, in _handle_workers\n",
      "    cls._wait_for_updates(current_sentinels, change_notifier)\n",
      "  File \"c:\\Users\\mariy\\AppData\\Local\\Programs\\Python\\Python312\\Lib\\multiprocessing\\pool.py\", line 502, in _wait_for_updates\n",
      "    wait(sentinels, timeout=timeout)\n",
      "  File \"c:\\Users\\mariy\\AppData\\Local\\Programs\\Python\\Python312\\Lib\\multiprocessing\\connection.py\", line 1066, in wait\n",
      "    ready_handles = _exhaustive_wait(waithandle_to_obj.keys(), timeout)\n",
      "                    ^^^^^^^^^^^^^^^^^^^^^^^^^^^^^^^^^^^^^^^^^^^^^^^^^^^\n",
      "  File \"c:\\Users\\mariy\\AppData\\Local\\Programs\\Python\\Python312\\Lib\\multiprocessing\\connection.py\", line 998, in _exhaustive_wait\n",
      "    res = _winapi.WaitForMultipleObjects(L, False, timeout)\n",
      "          ^^^^^^^^^^^^^^^^^^^^^^^^^^^^^^^^^^^^^^^^^^^^^^^^^\n",
      "ValueError: need at most 63 handles, got a sequence of length 66\n",
      "  0%|          | 0/88 [00:00<?, ?it/s]"
     ]
    }
   ],
   "source": [
    "from utils import download_images\n",
    "download_images(sample_test['image_link'], '../images')"
   ]
  },
  {
   "cell_type": "code",
   "execution_count": 8,
   "id": "89aaba53",
   "metadata": {},
   "outputs": [],
   "source": [
    "assert len(os.listdir('../images')) > 0"
   ]
  },
  {
   "cell_type": "code",
   "execution_count": null,
   "id": "1ba3d802",
   "metadata": {},
   "outputs": [],
   "source": [
    "!rm -rf ../images"
   ]
  },
  {
   "cell_type": "code",
   "execution_count": 1,
   "id": "6c38a641",
   "metadata": {},
   "outputs": [],
   "source": [
    "import tensorflow as tf\n",
    "from tensorflow.keras import layers, models\n",
    "from tensorflow.keras.preprocessing import image\n",
    "from tensorflow.keras.applications import imagenet_utils\n",
    "import matplotlib.pyplot as plt\n",
    "import numpy as np\n",
    "from IPython.display import Image"
   ]
  },
  {
   "cell_type": "code",
   "execution_count": 2,
   "id": "1eae8ac6",
   "metadata": {},
   "outputs": [
    {
     "name": "stdout",
     "output_type": "stream",
     "text": [
      "<PIL.Image.Image image mode=RGB size=224x224 at 0x2043C6479B0>\n"
     ]
    },
    {
     "data": {
      "text/plain": [
       "<matplotlib.image.AxesImage at 0x2043d1072f0>"
      ]
     },
     "execution_count": 2,
     "metadata": {},
     "output_type": "execute_result"
    },
    {
     "data": {
      "image/png": "[encoded data removed]",
      "text/plain": [
       "<Figure size 640x480 with 1 Axes>"
      ]
     },
     "metadata": {},
     "output_type": "display_data"
    }
   ],
   "source": [
    "test_image = 'E:\\\\github repository\\\\Amazon-ML-Hackathon\\\\student_resource 3\\\\images\\\\41-NCxNuBxL.jpg'\n",
    "Image(test_image,width=224,height=224)\n",
    "img = image.load_img(test_image, target_size=(224, 224))\n",
    "print(img)\n",
    "plt.imshow(img)"
   ]
  },
  {
   "cell_type": "code",
   "execution_count": 3,
   "id": "9719b11f",
   "metadata": {},
   "outputs": [
    {
     "name": "stdout",
     "output_type": "stream",
     "text": [
      "\u001b[1m1/1\u001b[0m \u001b[32m━━━━━━━━━━━━━━━━━━━━\u001b[0m\u001b[37m\u001b[0m \u001b[1m1s\u001b[0m 917ms/step\n"
     ]
    }
   ],
   "source": [
    "model = tf.keras.applications.mobilenet_v2.MobileNetV2()\n",
    "resizedimg = image.img_to_array(img)\n",
    "finalimg = np.expand_dims(resizedimg,axis=0)\n",
    "finalimg = tf.keras.applications.mobilenet_v2.preprocess_input(finalimg)\n",
    "finalimg.shape\n",
    "predictions = model.predict(finalimg)"
   ]
  },
  {
   "cell_type": "code",
   "execution_count": 5,
   "id": "ba1ec910",
   "metadata": {},
   "outputs": [
    {
     "name": "stdout",
     "output_type": "stream",
     "text": [
      "[[('n04404412', 'television', 0.66064805), ('n04476259', 'tray', 0.101882555), ('n03761084', 'microwave', 0.061022833), ('n04152593', 'screen', 0.020884737), ('n04372370', 'switch', 0.014369518)]]\n",
      "tray\n"
     ]
    }
   ],
   "source": [
    "results = imagenet_utils.decode_predictions(predictions)\n",
    "print(results)\n",
    "print(results[0][1][1])"
   ]
  },
  {
   "cell_type": "code",
   "execution_count": 9,
   "id": "7c24b5b3",
   "metadata": {},
   "outputs": [],
   "source": [
    "import os\n",
    "import string\n",
    "import pandas as predictions\n",
    "import numpy as np\n",
    "import matplotlib.pyplot as plt\n",
    "import time\n",
    "\n",
    "import nltk\n",
    "from nltk.corpus import stopwords\n",
    "from nltk.stem import WordNetLemmatizer\n",
    "from nltk.stem import SnowballStemmer\n",
    "from nltk.corpus import wordnet"
   ]
  },
  {
   "cell_type": "code",
   "execution_count": 11,
   "id": "9fc9429b",
   "metadata": {},
   "outputs": [
    {
     "name": "stderr",
     "output_type": "stream",
     "text": [
      "<>:5: SyntaxWarning: invalid escape sequence '\\g'\n",
      "<>:11: SyntaxWarning: invalid escape sequence '\\g'\n",
      "<>:5: SyntaxWarning: invalid escape sequence '\\g'\n",
      "<>:11: SyntaxWarning: invalid escape sequence '\\g'\n",
      "C:\\Users\\mariy\\AppData\\Local\\Temp\\ipykernel_25504\\2836018607.py:5: SyntaxWarning: invalid escape sequence '\\g'\n",
      "  download_dir = \"E:\\github repository\\Amazon-ML-Hackathon\\student_resource 3\\images\"\n",
      "C:\\Users\\mariy\\AppData\\Local\\Temp\\ipykernel_25504\\2836018607.py:11: SyntaxWarning: invalid escape sequence '\\g'\n",
      "  with open(\"E:\\github repository\\Amazon-ML-Hackathon\\student_resource 3\\dataset\\sample_test.csv\", \"r\") as f:\n"
     ]
    },
    {
     "name": "stdout",
     "output_type": "stream",
     "text": [
      "Downloaded image: 41-NCxNuBxL.jpg\n",
      "Downloaded image: 41-NCxNuBxL.jpg\n",
      "Downloaded image: 417NJrPEk+L.jpg\n",
      "Downloaded image: 417SThj+SrL.jpg\n",
      "Downloaded image: 417SThj+SrL.jpg\n",
      "Downloaded image: 41ADVPQgZOL.jpg\n",
      "Downloaded image: 41nblnEkJ3L.jpg\n",
      "Downloaded image: 41nblnEkJ3L.jpg\n",
      "Downloaded image: 41o3iis9E7L.jpg\n",
      "Downloaded image: 41pvwR9GbaL.jpg\n",
      "Downloaded image: 41uwo4PVnuL.jpg\n",
      "Downloaded image: 41uwo4PVnuL.jpg\n",
      "Downloaded image: 41ygXRvf8lL.jpg\n",
      "Downloaded image: 41ygXRvf8lL.jpg\n",
      "Downloaded image: 41zgjN+zW3L.jpg\n",
      "Downloaded image: 51+oHGvSvuL.jpg\n",
      "Downloaded image: 51+oHGvSvuL.jpg\n",
      "Downloaded image: 51-WIOx5pxL.jpg\n",
      "Downloaded image: 51-WIOx5pxL.jpg\n",
      "Downloaded image: 510xYFNYQ8L.jpg\n",
      "Downloaded image: 510xYFNYQ8L.jpg\n",
      "Downloaded image: 510xYFNYQ8L.jpg\n",
      "Downloaded image: 514bY8c4ZIL.jpg\n",
      "Downloaded image: 514bY8c4ZIL.jpg\n",
      "Downloaded image: 514pScQdlCL.jpg\n",
      "Downloaded image: 514pScQdlCL.jpg\n",
      "Downloaded image: 51BEuVR4ZzL.jpg\n",
      "Downloaded image: 51BEuVR4ZzL.jpg\n",
      "Downloaded image: 51EBBqNOJ1L.jpg\n",
      "Downloaded image: 51EBBqNOJ1L.jpg\n",
      "Downloaded image: 51EBBqNOJ1L.jpg\n",
      "Downloaded image: 51FSlaVlejL.jpg\n",
      "Downloaded image: 51H+mX2Wk7L.jpg\n",
      "Downloaded image: 51H+mX2Wk7L.jpg\n",
      "Downloaded image: 51KykmLgc0L.jpg\n",
      "Downloaded image: 51P0IuT6RsL.jpg\n",
      "Downloaded image: 51Su6zXkAsL.jpg\n",
      "Downloaded image: 51bEy0J5wLL.jpg\n",
      "Downloaded image: 51cPZYLk2YL.jpg\n",
      "Downloaded image: 51fAzxNm+cL.jpg\n",
      "Downloaded image: 51fAzxNm+cL.jpg\n",
      "Downloaded image: 51fAzxNm+cL.jpg\n",
      "Downloaded image: 51jTe522S2L.jpg\n",
      "Downloaded image: 51kdBAv6ImL.jpg\n",
      "Downloaded image: 51kdBAv6ImL.jpg\n",
      "Downloaded image: 51l6c6UcRZL.jpg\n",
      "Downloaded image: 51oaOP8qJlL.jpg\n",
      "Downloaded image: 51oaOP8qJlL.jpg\n",
      "Downloaded image: 51r7U52rh7L.jpg\n",
      "Downloaded image: 51r7U52rh7L.jpg\n",
      "Downloaded image: 51r7U52rh7L.jpg\n",
      "Downloaded image: 51tEop-EBJL.jpg\n",
      "Downloaded image: 51vwYpDz2tL.jpg\n",
      "Downloaded image: 51y79cwGJFL.jpg\n",
      "Downloaded image: 51y79cwGJFL.jpg\n",
      "Downloaded image: 51y79cwGJFL.jpg\n",
      "Downloaded image: 613P5cxQH4L.jpg\n",
      "Downloaded image: 613P5cxQH4L.jpg\n",
      "Downloaded image: 614hn5uX9MS.jpg\n",
      "Downloaded image: 615Cjzm6pyL.jpg\n",
      "Downloaded image: 615Cjzm6pyL.jpg\n",
      "Downloaded image: 61C+fwVD6dL.jpg\n",
      "Downloaded image: 61E2XRNSdYL.jpg\n",
      "Downloaded image: 61G8bvWOb-L.jpg\n",
      "Downloaded image: 61G8bvWOb-L.jpg\n",
      "Downloaded image: 61O+Yi09tyL.jpg\n",
      "Downloaded image: 61lX6IP1SVL.jpg\n",
      "Downloaded image: 71Qk6hR9-WL.jpg\n",
      "Downloaded image: 71Qk6hR9-WL.jpg\n",
      "Downloaded image: 71UN1IxKp4L.jpg\n",
      "Downloaded image: 71UN1IxKp4L.jpg\n",
      "Downloaded image: 71UYDq4nfnL.jpg\n",
      "Downloaded image: 71UYDq4nfnL.jpg\n",
      "Downloaded image: 71WAjPMQDWL.jpg\n",
      "Downloaded image: 71WAjPMQDWL.jpg\n",
      "Downloaded image: 71afEPoRGsL.jpg\n",
      "Downloaded image: 71afEPoRGsL.jpg\n",
      "Downloaded image: 71eCfiIG-AL.jpg\n",
      "Downloaded image: 71fWddA0+yL.jpg\n",
      "Downloaded image: 71ta6wY3HtL.jpg\n",
      "Downloaded image: 71ta6wY3HtL.jpg\n",
      "Downloaded image: 71v+pim0lfL.jpg\n",
      "Downloaded image: 71v+pim0lfL.jpg\n",
      "Downloaded image: 81IYdOV0mVL.jpg\n",
      "Downloaded image: 81PG3ea0MOL.jpg\n",
      "Downloaded image: 81aZ2ozp1GL.jpg\n",
      "Downloaded image: 81qUmRUUTTL.jpg\n",
      "Downloaded image: 81qUmRUUTTL.jpg\n"
     ]
    }
   ],
   "source": [
    "import requests\n",
    "import os\n",
    "\n",
    "# Define a directory to save downloaded images\n",
    "download_dir = \"E:\\github repository\\Amazon-ML-Hackathon\\student_resource 3\\images\"\n",
    "\n",
    "os.makedirs(download_dir, exist_ok=True)  # Create directory if it doesn't exist\n",
    "\n",
    "with open(\"E:\\github repository\\Amazon-ML-Hackathon\\student_resource 3\\dataset\\sample_test.csv\", \"r\") as f:\n",
    "    next(f)  # Skip the header row if it exists\n",
    "\n",
    "    for line in f:\n",
    "        data = line.strip().split(\",\")\n",
    "\n",
    "        image_url = data[1]  # Assuming the image URL is in the second column\n",
    "\n",
    "        filename = os.path.basename(image_url)  # Extract filename from URL\n",
    "\n",
    "        # Download the image\n",
    "        response = requests.get(image_url, stream=True)\n",
    "        if response.status_code == 200:\n",
    "            # Check for successful download\n",
    "            with open(os.path.join(download_dir, filename), \"wb\") as out_file:\n",
    "                for chunk in response.iter_content(1024):\n",
    "                    out_file.write(chunk)\n",
    "            print(f\"Downloaded image: {filename}\")\n",
    "        else:\n",
    "            print(f\"Error downloading image: {image_url}\")"
   ]
  },
  {
   "cell_type": "code",
   "execution_count": 23,
   "id": "fa5d579f",
   "metadata": {},
   "outputs": [],
   "source": [
    "def label_function(img_paths):\n",
    "    labels = []\n",
    "    for i, img_path in enumerate(img_paths):\n",
    "        labels.append((i,img_path))\n",
    "    return labels"
   ]
  },
  {
   "cell_type": "code",
   "execution_count": 24,
   "id": "e3b79260",
   "metadata": {},
   "outputs": [
    {
     "name": "stdout",
     "output_type": "stream",
     "text": [
      "['E:\\\\github repository\\\\Amazon-ML-Hackathon\\\\student_resource 3\\\\images\\\\41-NCxNuBxL.jpg', 'E:\\\\github repository\\\\Amazon-ML-Hackathon\\\\student_resource 3\\\\images\\\\417NJrPEk+L.jpg', 'E:\\\\github repository\\\\Amazon-ML-Hackathon\\\\student_resource 3\\\\images\\\\417SThj+SrL.jpg', 'E:\\\\github repository\\\\Amazon-ML-Hackathon\\\\student_resource 3\\\\images\\\\41ADVPQgZOL.jpg', 'E:\\\\github repository\\\\Amazon-ML-Hackathon\\\\student_resource 3\\\\images\\\\41nblnEkJ3L.jpg', 'E:\\\\github repository\\\\Amazon-ML-Hackathon\\\\student_resource 3\\\\images\\\\41o3iis9E7L.jpg', 'E:\\\\github repository\\\\Amazon-ML-Hackathon\\\\student_resource 3\\\\images\\\\41pvwR9GbaL.jpg', 'E:\\\\github repository\\\\Amazon-ML-Hackathon\\\\student_resource 3\\\\images\\\\41uwo4PVnuL.jpg', 'E:\\\\github repository\\\\Amazon-ML-Hackathon\\\\student_resource 3\\\\images\\\\41ygXRvf8lL.jpg', 'E:\\\\github repository\\\\Amazon-ML-Hackathon\\\\student_resource 3\\\\images\\\\41zgjN+zW3L.jpg', 'E:\\\\github repository\\\\Amazon-ML-Hackathon\\\\student_resource 3\\\\images\\\\51+oHGvSvuL.jpg', 'E:\\\\github repository\\\\Amazon-ML-Hackathon\\\\student_resource 3\\\\images\\\\51-WIOx5pxL.jpg', 'E:\\\\github repository\\\\Amazon-ML-Hackathon\\\\student_resource 3\\\\images\\\\510xYFNYQ8L.jpg', 'E:\\\\github repository\\\\Amazon-ML-Hackathon\\\\student_resource 3\\\\images\\\\514bY8c4ZIL.jpg', 'E:\\\\github repository\\\\Amazon-ML-Hackathon\\\\student_resource 3\\\\images\\\\514pScQdlCL.jpg', 'E:\\\\github repository\\\\Amazon-ML-Hackathon\\\\student_resource 3\\\\images\\\\51BEuVR4ZzL.jpg', 'E:\\\\github repository\\\\Amazon-ML-Hackathon\\\\student_resource 3\\\\images\\\\51bEy0J5wLL.jpg', 'E:\\\\github repository\\\\Amazon-ML-Hackathon\\\\student_resource 3\\\\images\\\\51cPZYLk2YL.jpg', 'E:\\\\github repository\\\\Amazon-ML-Hackathon\\\\student_resource 3\\\\images\\\\51EBBqNOJ1L.jpg', 'E:\\\\github repository\\\\Amazon-ML-Hackathon\\\\student_resource 3\\\\images\\\\51fAzxNm+cL.jpg', 'E:\\\\github repository\\\\Amazon-ML-Hackathon\\\\student_resource 3\\\\images\\\\51FSlaVlejL.jpg', 'E:\\\\github repository\\\\Amazon-ML-Hackathon\\\\student_resource 3\\\\images\\\\51H+mX2Wk7L.jpg', 'E:\\\\github repository\\\\Amazon-ML-Hackathon\\\\student_resource 3\\\\images\\\\51jTe522S2L.jpg', 'E:\\\\github repository\\\\Amazon-ML-Hackathon\\\\student_resource 3\\\\images\\\\51kdBAv6ImL.jpg', 'E:\\\\github repository\\\\Amazon-ML-Hackathon\\\\student_resource 3\\\\images\\\\51KykmLgc0L.jpg', 'E:\\\\github repository\\\\Amazon-ML-Hackathon\\\\student_resource 3\\\\images\\\\51l6c6UcRZL.jpg', 'E:\\\\github repository\\\\Amazon-ML-Hackathon\\\\student_resource 3\\\\images\\\\51oaOP8qJlL.jpg', 'E:\\\\github repository\\\\Amazon-ML-Hackathon\\\\student_resource 3\\\\images\\\\51P0IuT6RsL.jpg', 'E:\\\\github repository\\\\Amazon-ML-Hackathon\\\\student_resource 3\\\\images\\\\51r7U52rh7L.jpg', 'E:\\\\github repository\\\\Amazon-ML-Hackathon\\\\student_resource 3\\\\images\\\\51Su6zXkAsL.jpg', 'E:\\\\github repository\\\\Amazon-ML-Hackathon\\\\student_resource 3\\\\images\\\\51tEop-EBJL.jpg', 'E:\\\\github repository\\\\Amazon-ML-Hackathon\\\\student_resource 3\\\\images\\\\51vwYpDz2tL.jpg', 'E:\\\\github repository\\\\Amazon-ML-Hackathon\\\\student_resource 3\\\\images\\\\51y79cwGJFL.jpg', 'E:\\\\github repository\\\\Amazon-ML-Hackathon\\\\student_resource 3\\\\images\\\\613P5cxQH4L.jpg', 'E:\\\\github repository\\\\Amazon-ML-Hackathon\\\\student_resource 3\\\\images\\\\614hn5uX9MS.jpg', 'E:\\\\github repository\\\\Amazon-ML-Hackathon\\\\student_resource 3\\\\images\\\\615Cjzm6pyL.jpg', 'E:\\\\github repository\\\\Amazon-ML-Hackathon\\\\student_resource 3\\\\images\\\\61C+fwVD6dL.jpg', 'E:\\\\github repository\\\\Amazon-ML-Hackathon\\\\student_resource 3\\\\images\\\\61E2XRNSdYL.jpg', 'E:\\\\github repository\\\\Amazon-ML-Hackathon\\\\student_resource 3\\\\images\\\\61G8bvWOb-L.jpg', 'E:\\\\github repository\\\\Amazon-ML-Hackathon\\\\student_resource 3\\\\images\\\\61lX6IP1SVL.jpg', 'E:\\\\github repository\\\\Amazon-ML-Hackathon\\\\student_resource 3\\\\images\\\\61O+Yi09tyL.jpg', 'E:\\\\github repository\\\\Amazon-ML-Hackathon\\\\student_resource 3\\\\images\\\\71afEPoRGsL.jpg', 'E:\\\\github repository\\\\Amazon-ML-Hackathon\\\\student_resource 3\\\\images\\\\71eCfiIG-AL.jpg', 'E:\\\\github repository\\\\Amazon-ML-Hackathon\\\\student_resource 3\\\\images\\\\71fWddA0+yL.jpg', 'E:\\\\github repository\\\\Amazon-ML-Hackathon\\\\student_resource 3\\\\images\\\\71Qk6hR9-WL.jpg', 'E:\\\\github repository\\\\Amazon-ML-Hackathon\\\\student_resource 3\\\\images\\\\71ta6wY3HtL.jpg', 'E:\\\\github repository\\\\Amazon-ML-Hackathon\\\\student_resource 3\\\\images\\\\71UN1IxKp4L.jpg', 'E:\\\\github repository\\\\Amazon-ML-Hackathon\\\\student_resource 3\\\\images\\\\71UYDq4nfnL.jpg', 'E:\\\\github repository\\\\Amazon-ML-Hackathon\\\\student_resource 3\\\\images\\\\71v+pim0lfL.jpg', 'E:\\\\github repository\\\\Amazon-ML-Hackathon\\\\student_resource 3\\\\images\\\\71WAjPMQDWL.jpg', 'E:\\\\github repository\\\\Amazon-ML-Hackathon\\\\student_resource 3\\\\images\\\\81aZ2ozp1GL.jpg', 'E:\\\\github repository\\\\Amazon-ML-Hackathon\\\\student_resource 3\\\\images\\\\81IYdOV0mVL.jpg', 'E:\\\\github repository\\\\Amazon-ML-Hackathon\\\\student_resource 3\\\\images\\\\81PG3ea0MOL.jpg', 'E:\\\\github repository\\\\Amazon-ML-Hackathon\\\\student_resource 3\\\\images\\\\81qUmRUUTTL.jpg']\n",
      "54\n",
      "54\n",
      "Train set size: 43\n",
      "Validation set size: 6\n",
      "Test set size: 5\n"
     ]
    },
    {
     "name": "stderr",
     "output_type": "stream",
     "text": [
      "<>:5: SyntaxWarning: invalid escape sequence '\\g'\n",
      "<>:5: SyntaxWarning: invalid escape sequence '\\g'\n",
      "C:\\Users\\mariy\\AppData\\Local\\Temp\\ipykernel_25504\\1140500294.py:5: SyntaxWarning: invalid escape sequence '\\g'\n",
      "  image_dir = \"E:\\github repository\\Amazon-ML-Hackathon\\student_resource 3\\images\"\n"
     ]
    }
   ],
   "source": [
    "import os\n",
    "from sklearn.model_selection import train_test_split\n",
    "\n",
    "image_dir = \"E:\\github repository\\Amazon-ML-Hackathon\\student_resource 3\\images\"\n",
    "\n",
    "# Load image paths and labels (assuming you have corresponding labels)\n",
    "image_paths = [os.path.join(image_dir, filename) for filename in os.listdir(image_dir)]\n",
    "# print(image_paths)\n",
    "labels = label_function(image_paths)\n",
    "# print(len(image_paths))\n",
    "# print(len(labels))\n",
    "\n",
    "# Split into train, test, and validation sets\n",
    "train_images, val_images, train_labels, val_labels = train_test_split(image_paths, labels, test_size=0.2, random_state=42)\n",
    "test_images, val_images, test_labels, val_labels = train_test_split(val_images, val_labels, test_size=0.5, random_state=42)\n",
    "\n",
    "# Print the sizes of the sets\n",
    "print(\"Train set size:\", len(train_images))\n",
    "print(\"Validation set size:\", len(val_images))\n",
    "print(\"Test set size:\", len(test_images))"
   ]
  },
  {
   "cell_type": "code",
   "execution_count": null,
   "id": "76b27fe1",
   "metadata": {},
   "outputs": [],
   "source": [
    "from sklearn.model_selection import train_test_split\n",
    "from sklearn.preprocessing import LabelEncoder\n",
    "\n",
    "# Load data and extract features\n",
    "data = pd.read_csv(\"sample_test.csv\")\n",
    "entity_types = data[\"entity_name\"].str.split(\" \", expand=True)[0]  # Assuming entity name is in first word\n",
    "\n",
    "# Encode entity types for classification\n",
    "le = LabelEncoder()\n",
    "entity_types_encoded = le.fit_transform(entity_types)\n",
    "\n",
    "# Split data\n",
    "X_train, X_test, y_train, y_test = train_test_split(entity_types_encoded.reshape(-1, 1), data[\"group_id\"], test_size=0.2)\n",
    "\n",
    "# Train a multi-class classifier (replace with your model)\n",
    "from sklearn.svm import SVC\n",
    "clf = SVC(gamma=\"auto\")\n",
    "clf.fit(X_train, y_train)\n",
    "\n",
    "# Predict units on test data\n",
    "predicted_units = clf.predict(X_test.reshape(-1, 1))\n",
    "\n",
    "# Convert units using your function\n",
    "for i, row in data.iterrows():\n",
    "  original_value = ...  # Get original value from your data\n",
    "  predicted_unit = le.inverse_transform([predicted_units[i]])[0]\n",
    "  converted_value = convert_unit(original_value, row[\"entity_name\"].split()[1], predicted_unit)\n",
    "  # Update the data with converted values (optional)\n",
    "  # data.loc[i, \"prediction\"] = converted_value"
   ]
  }
 ],
 "metadata": {
  "kernelspec": {
   "display_name": "Python 3",
   "language": "python",
   "name": "python3"
  },
  "language_info": {
   "codemirror_mode": {
    "name": "ipython",
    "version": 3
   },
   "file_extension": ".py",
   "mimetype": "text/x-python",
   "name": "python",
   "nbconvert_exporter": "python",
   "pygments_lexer": "ipython3",
   "version": "3.12.0"
  }
 },
 "nbformat": 4,
 "nbformat_minor": 5
}
